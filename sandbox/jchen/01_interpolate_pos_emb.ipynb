{
 "cells": [
  {
   "cell_type": "code",
   "execution_count": null,
   "metadata": {},
   "outputs": [],
   "source": [
    "%load_ext autoreload\n",
    "%autoreload 2\n",
    "%matplotlib inline"
   ]
  },
  {
   "cell_type": "code",
   "execution_count": null,
   "metadata": {},
   "outputs": [],
   "source": [
    "import sys, os, pathlib\n",
    "ROOT_DIR = str(pathlib.Path(os.getcwd()).parent.parent)\n",
    "print(ROOT_DIR)\n",
    "sys.path.append(ROOT_DIR)\n",
    "os.chdir(ROOT_DIR)"
   ]
  },
  {
   "cell_type": "code",
   "execution_count": null,
   "metadata": {},
   "outputs": [],
   "source": [
    "from torchvision.io import read_image\n",
    "img_path = \"./assets/images/ff_icon.png\"\n",
    "img = read_image(img_path)\n",
    "print(f\"{type(img) = }, {img.dtype = }, {img.shape = }\")"
   ]
  },
  {
   "cell_type": "code",
   "execution_count": null,
   "metadata": {},
   "outputs": [],
   "source": [
    "from f3rm.features.clip.interpolate import interpolate_positional_embedding \n",
    "import torch"
   ]
  },
  {
   "cell_type": "code",
   "execution_count": null,
   "metadata": {},
   "outputs": [],
   "source": [
    "emb_size = 3 \n",
    "b, c, w, h = 1, emb_size, 250, 100\n",
    "n_patch = 224"
   ]
  },
  {
   "cell_type": "code",
   "execution_count": null,
   "metadata": {},
   "outputs": [],
   "source": [
    "cropped_image = torch.tensor(img[:emb_size, -n_patch:, -n_patch:], dtype=torch.float32)/255\n",
    "patch_pos_embed_interp = torch.nn.functional.interpolate(\n",
    "    cropped_image.unsqueeze(0), \n",
    "    # (1, dim, patch_per_ax, patch_per_ax)\n",
    "    scale_factor=(w / n_patch, h / n_patch),\n",
    "    mode=\"bicubic\",\n",
    "    align_corners=False,\n",
    "    recompute_scale_factor=False,\n",
    ")  # (1, dim, w0, h0)"
   ]
  },
  {
   "cell_type": "code",
   "execution_count": null,
   "metadata": {},
   "outputs": [],
   "source": [
    "from matplotlib import pyplot as plt\n",
    "plt.imshow(cropped_image.permute(1, 2, 0))\n",
    "plt.imshow(patch_pos_embed_interp.squeeze().permute(1, 2, 0).numpy())"
   ]
  }
 ],
 "metadata": {
  "kernelspec": {
   "display_name": "f3rm",
   "language": "python",
   "name": "python3"
  },
  "language_info": {
   "codemirror_mode": {
    "name": "ipython",
    "version": 3
   },
   "file_extension": ".py",
   "mimetype": "text/x-python",
   "name": "python",
   "nbconvert_exporter": "python",
   "pygments_lexer": "ipython3",
   "version": "3.8.19"
  }
 },
 "nbformat": 4,
 "nbformat_minor": 2
}
